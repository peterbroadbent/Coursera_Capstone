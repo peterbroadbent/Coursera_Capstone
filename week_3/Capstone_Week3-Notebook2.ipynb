{
 "cells": [
  {
   "cell_type": "markdown",
   "metadata": {},
   "source": [
    "# Segmenting and Clustering Neighbourhoods in Toronto"
   ]
  },
  {
   "cell_type": "markdown",
   "metadata": {},
   "source": [
    "## Import required libraries"
   ]
  },
  {
   "cell_type": "code",
   "execution_count": 27,
   "metadata": {},
   "outputs": [],
   "source": [
    "# general imports\n",
    "import pandas as pd\n",
    "import numpy as np\n",
    "\n",
    "# required for pulling down web data\n",
    "import urllib\n",
    "\n",
    "# required for parsing an HTML document\n",
    "from bs4 import BeautifulSoup"
   ]
  },
  {
   "cell_type": "markdown",
   "metadata": {},
   "source": [
    "## Pull down a copy of the data"
   ]
  },
  {
   "cell_type": "code",
   "execution_count": 28,
   "metadata": {},
   "outputs": [],
   "source": [
    "# obtain a copy of the web page\n",
    "url = \"https://en.wikipedia.org/wiki/List_of_postal_codes_of_Canada:_M\"\n",
    "page = urllib.request.urlopen(url)"
   ]
  },
  {
   "cell_type": "markdown",
   "metadata": {},
   "source": [
    "## Parse the downloaded data"
   ]
  },
  {
   "cell_type": "code",
   "execution_count": 29,
   "metadata": {},
   "outputs": [],
   "source": [
    "# parse the downloaded HTML page\n",
    "soup = BeautifulSoup(page, 'html.parser')\n",
    "\n",
    "#get a reference to the correct table\n",
    "table=soup.find('table', class_='wikitable sortable')"
   ]
  },
  {
   "cell_type": "markdown",
   "metadata": {},
   "source": [
    "## Extract the column names"
   ]
  },
  {
   "cell_type": "code",
   "execution_count": 30,
   "metadata": {},
   "outputs": [
    {
     "name": "stdout",
     "output_type": "stream",
     "text": [
      "['Postcode', 'Borough', 'Neighbourhood']\n"
     ]
    }
   ],
   "source": [
    "#obtain the column names, stripping off whitespace\n",
    "columnNames = []\n",
    "for name in table.findAll( 'th' ):\n",
    "    columnNames.append( name.find(text=True ).strip() )\n",
    "\n",
    "#lets see what we've got    \n",
    "print( columnNames )"
   ]
  },
  {
   "cell_type": "markdown",
   "metadata": {},
   "source": [
    "## Extract the data into a DataFrame"
   ]
  },
  {
   "cell_type": "code",
   "execution_count": 31,
   "metadata": {},
   "outputs": [],
   "source": [
    "#location to store the data during the extraction loop\n",
    "cellData = []\n",
    "rowData = []\n",
    "\n",
    "#pull out each row of data\n",
    "for row in table.findAll( 'tr' ):\n",
    "\n",
    "    #pull out each cell from the row\n",
    "    for cell in row.findAll( 'td' ):\n",
    "        cellData.append( cell.find(text=True).strip() )\n",
    "\n",
    "    #only append if we hold complete and correct data (exclude if borough is 'Not assigned')\n",
    "    if( len( cellData ) == len( columnNames ) ):\n",
    "        if( cellData[1] != \"Not assigned\" ):\n",
    "            rowData.append( cellData )\n",
    "    cellData = []\n",
    "\n",
    "\n",
    "#once we have all the cells, create a data frame with this data\n",
    "df = pd.DataFrame( np.array( rowData ), columns=columnNames )"
   ]
  },
  {
   "cell_type": "markdown",
   "metadata": {},
   "source": [
    "## Combine Neighbourhoods"
   ]
  },
  {
   "cell_type": "code",
   "execution_count": 32,
   "metadata": {},
   "outputs": [
    {
     "data": {
      "text/html": [
       "<div>\n",
       "<style scoped>\n",
       "    .dataframe tbody tr th:only-of-type {\n",
       "        vertical-align: middle;\n",
       "    }\n",
       "\n",
       "    .dataframe tbody tr th {\n",
       "        vertical-align: top;\n",
       "    }\n",
       "\n",
       "    .dataframe thead th {\n",
       "        text-align: right;\n",
       "    }\n",
       "</style>\n",
       "<table border=\"1\" class=\"dataframe\">\n",
       "  <thead>\n",
       "    <tr style=\"text-align: right;\">\n",
       "      <th></th>\n",
       "      <th>Postcode</th>\n",
       "      <th>Borough</th>\n",
       "      <th>Neighbourhood</th>\n",
       "    </tr>\n",
       "  </thead>\n",
       "  <tbody>\n",
       "    <tr>\n",
       "      <th>0</th>\n",
       "      <td>M1B</td>\n",
       "      <td>Scarborough</td>\n",
       "      <td>Rouge,Malvern</td>\n",
       "    </tr>\n",
       "    <tr>\n",
       "      <th>5</th>\n",
       "      <td>M1J</td>\n",
       "      <td>Scarborough</td>\n",
       "      <td>Scarborough Village</td>\n",
       "    </tr>\n",
       "    <tr>\n",
       "      <th>11</th>\n",
       "      <td>M1R</td>\n",
       "      <td>Scarborough</td>\n",
       "      <td>Maryvale,Wexford</td>\n",
       "    </tr>\n",
       "    <tr>\n",
       "      <th>17</th>\n",
       "      <td>M2H</td>\n",
       "      <td>North York</td>\n",
       "      <td>Hillcrest Village</td>\n",
       "    </tr>\n",
       "    <tr>\n",
       "      <th>35</th>\n",
       "      <td>M4B</td>\n",
       "      <td>East York</td>\n",
       "      <td>Woodbine Gardens,Parkview Hill</td>\n",
       "    </tr>\n",
       "    <tr>\n",
       "      <th>38</th>\n",
       "      <td>M4G</td>\n",
       "      <td>East York</td>\n",
       "      <td>Leaside</td>\n",
       "    </tr>\n",
       "    <tr>\n",
       "      <th>43</th>\n",
       "      <td>M4M</td>\n",
       "      <td>East Toronto</td>\n",
       "      <td>Studio District</td>\n",
       "    </tr>\n",
       "    <tr>\n",
       "      <th>53</th>\n",
       "      <td>M5A</td>\n",
       "      <td>Downtown Toronto</td>\n",
       "      <td>Harbourfront,Regent Park</td>\n",
       "    </tr>\n",
       "    <tr>\n",
       "      <th>57</th>\n",
       "      <td>M5G</td>\n",
       "      <td>Downtown Toronto</td>\n",
       "      <td>Central Bay Street</td>\n",
       "    </tr>\n",
       "    <tr>\n",
       "      <th>68</th>\n",
       "      <td>M5V</td>\n",
       "      <td>Downtown Toronto</td>\n",
       "      <td>CN Tower,Bathurst Quay,Island airport,Harbourf...</td>\n",
       "    </tr>\n",
       "    <tr>\n",
       "      <th>96</th>\n",
       "      <td>M9L</td>\n",
       "      <td>North York</td>\n",
       "      <td>Humber Summit</td>\n",
       "    </tr>\n",
       "    <tr>\n",
       "      <th>101</th>\n",
       "      <td>M9V</td>\n",
       "      <td>Etobicoke</td>\n",
       "      <td>Albion Gardens,Beaumond Heights,Humbergate,Jam...</td>\n",
       "    </tr>\n",
       "  </tbody>\n",
       "</table>\n",
       "</div>"
      ],
      "text/plain": [
       "    Postcode           Borough  \\\n",
       "0        M1B       Scarborough   \n",
       "5        M1J       Scarborough   \n",
       "11       M1R       Scarborough   \n",
       "17       M2H        North York   \n",
       "35       M4B         East York   \n",
       "38       M4G         East York   \n",
       "43       M4M      East Toronto   \n",
       "53       M5A  Downtown Toronto   \n",
       "57       M5G  Downtown Toronto   \n",
       "68       M5V  Downtown Toronto   \n",
       "96       M9L        North York   \n",
       "101      M9V         Etobicoke   \n",
       "\n",
       "                                         Neighbourhood  \n",
       "0                                        Rouge,Malvern  \n",
       "5                                  Scarborough Village  \n",
       "11                                    Maryvale,Wexford  \n",
       "17                                   Hillcrest Village  \n",
       "35                      Woodbine Gardens,Parkview Hill  \n",
       "38                                             Leaside  \n",
       "43                                     Studio District  \n",
       "53                            Harbourfront,Regent Park  \n",
       "57                                  Central Bay Street  \n",
       "68   CN Tower,Bathurst Quay,Island airport,Harbourf...  \n",
       "96                                       Humber Summit  \n",
       "101  Albion Gardens,Beaumond Heights,Humbergate,Jam...  "
      ]
     },
     "execution_count": 32,
     "metadata": {},
     "output_type": "execute_result"
    }
   ],
   "source": [
    "#group the data by post code, combining Neighbourhood \n",
    "grouped = df.groupby(['Postcode', 'Borough'])['Neighbourhood'].apply(','.join ).reset_index()\n",
    "\n",
    "# Ensure we print out the same order as the given screenshot - not required, just for fun\n",
    "grouped.loc[ (grouped.Postcode == 'M5G') | (grouped.Postcode == 'M2H') | (grouped.Postcode == 'M4B')| (grouped.Postcode == 'M1J')| (grouped.Postcode == 'M4G')| (grouped.Postcode == 'M4M')| (grouped.Postcode == 'M1R')| (grouped.Postcode == 'M9V')| (grouped.Postcode == 'M9L')| (grouped.Postcode == 'M5V')| (grouped.Postcode == 'M1B')| (grouped.Postcode == 'M5A')]"
   ]
  },
  {
   "cell_type": "markdown",
   "metadata": {},
   "source": [
    "## Replace 'Not Assigned' in Neighbourhoods"
   ]
  },
  {
   "cell_type": "code",
   "execution_count": 33,
   "metadata": {},
   "outputs": [
    {
     "data": {
      "text/plain": [
       "(103, 3)"
      ]
     },
     "execution_count": 33,
     "metadata": {},
     "output_type": "execute_result"
    }
   ],
   "source": [
    "grouped.shape"
   ]
  },
  {
   "cell_type": "code",
   "execution_count": 34,
   "metadata": {},
   "outputs": [
    {
     "name": "stdout",
     "output_type": "stream",
     "text": [
      "   Postcode       Borough Neighbourhood\n",
      "85      M7A  Queen's Park  Not assigned\n",
      "\n",
      "Empty DataFrame\n",
      "Columns: [Postcode, Borough, Neighbourhood]\n",
      "Index: []\n",
      "\n"
     ]
    }
   ],
   "source": [
    "#validate we have a 'Not assigned' neighbourhood\n",
    "print( grouped.loc[grouped.Neighbourhood == 'Not assigned'] )\n",
    "print()\n",
    "\n",
    "#when the neighbourhood is 'Not assigned', replace with the borough\n",
    "grouped.Neighbourhood = pd.np.where(grouped.Neighbourhood == 'Not assigned', grouped.Borough, grouped.Neighbourhood)\n",
    "\n",
    "#validate we do NOT have a 'Not assigned' neighbourhood\n",
    "print( grouped.loc[grouped.Neighbourhood == 'Not assigned'])\n",
    "print()"
   ]
  },
  {
   "cell_type": "code",
   "execution_count": 35,
   "metadata": {},
   "outputs": [
    {
     "data": {
      "text/html": [
       "<div>\n",
       "<style scoped>\n",
       "    .dataframe tbody tr th:only-of-type {\n",
       "        vertical-align: middle;\n",
       "    }\n",
       "\n",
       "    .dataframe tbody tr th {\n",
       "        vertical-align: top;\n",
       "    }\n",
       "\n",
       "    .dataframe thead th {\n",
       "        text-align: right;\n",
       "    }\n",
       "</style>\n",
       "<table border=\"1\" class=\"dataframe\">\n",
       "  <thead>\n",
       "    <tr style=\"text-align: right;\">\n",
       "      <th></th>\n",
       "      <th>Postcode</th>\n",
       "      <th>Borough</th>\n",
       "      <th>Neighbourhood</th>\n",
       "      <th>Latitude</th>\n",
       "      <th>Longitude</th>\n",
       "    </tr>\n",
       "  </thead>\n",
       "  <tbody>\n",
       "    <tr>\n",
       "      <th>0</th>\n",
       "      <td>M1B</td>\n",
       "      <td>Scarborough</td>\n",
       "      <td>Rouge,Malvern</td>\n",
       "      <td>43.8066863</td>\n",
       "      <td>-79.1943534</td>\n",
       "    </tr>\n",
       "    <tr>\n",
       "      <th>5</th>\n",
       "      <td>M1J</td>\n",
       "      <td>Scarborough</td>\n",
       "      <td>Scarborough Village</td>\n",
       "      <td>43.7447342</td>\n",
       "      <td>-79.2394761</td>\n",
       "    </tr>\n",
       "    <tr>\n",
       "      <th>11</th>\n",
       "      <td>M1R</td>\n",
       "      <td>Scarborough</td>\n",
       "      <td>Maryvale,Wexford</td>\n",
       "      <td>43.7500715</td>\n",
       "      <td>-79.2958491</td>\n",
       "    </tr>\n",
       "    <tr>\n",
       "      <th>17</th>\n",
       "      <td>M2H</td>\n",
       "      <td>North York</td>\n",
       "      <td>Hillcrest Village</td>\n",
       "      <td>43.8037622</td>\n",
       "      <td>-79.3634517</td>\n",
       "    </tr>\n",
       "    <tr>\n",
       "      <th>35</th>\n",
       "      <td>M4B</td>\n",
       "      <td>East York</td>\n",
       "      <td>Woodbine Gardens,Parkview Hill</td>\n",
       "      <td>43.7063972</td>\n",
       "      <td>-79.309937</td>\n",
       "    </tr>\n",
       "    <tr>\n",
       "      <th>38</th>\n",
       "      <td>M4G</td>\n",
       "      <td>East York</td>\n",
       "      <td>Leaside</td>\n",
       "      <td>43.7090604</td>\n",
       "      <td>-79.3634517</td>\n",
       "    </tr>\n",
       "    <tr>\n",
       "      <th>43</th>\n",
       "      <td>M4M</td>\n",
       "      <td>East Toronto</td>\n",
       "      <td>Studio District</td>\n",
       "      <td>43.6595255</td>\n",
       "      <td>-79.340923</td>\n",
       "    </tr>\n",
       "    <tr>\n",
       "      <th>53</th>\n",
       "      <td>M5A</td>\n",
       "      <td>Downtown Toronto</td>\n",
       "      <td>Harbourfront,Regent Park</td>\n",
       "      <td>43.6542599</td>\n",
       "      <td>-79.3606359</td>\n",
       "    </tr>\n",
       "    <tr>\n",
       "      <th>57</th>\n",
       "      <td>M5G</td>\n",
       "      <td>Downtown Toronto</td>\n",
       "      <td>Central Bay Street</td>\n",
       "      <td>43.6579524</td>\n",
       "      <td>-79.3873826</td>\n",
       "    </tr>\n",
       "    <tr>\n",
       "      <th>68</th>\n",
       "      <td>M5V</td>\n",
       "      <td>Downtown Toronto</td>\n",
       "      <td>CN Tower,Bathurst Quay,Island airport,Harbourf...</td>\n",
       "      <td>43.6289467</td>\n",
       "      <td>-79.3944199</td>\n",
       "    </tr>\n",
       "    <tr>\n",
       "      <th>96</th>\n",
       "      <td>M9L</td>\n",
       "      <td>North York</td>\n",
       "      <td>Humber Summit</td>\n",
       "      <td>43.7563033</td>\n",
       "      <td>-79.5659633</td>\n",
       "    </tr>\n",
       "    <tr>\n",
       "      <th>101</th>\n",
       "      <td>M9V</td>\n",
       "      <td>Etobicoke</td>\n",
       "      <td>Albion Gardens,Beaumond Heights,Humbergate,Jam...</td>\n",
       "      <td>43.7394164</td>\n",
       "      <td>-79.5884369</td>\n",
       "    </tr>\n",
       "  </tbody>\n",
       "</table>\n",
       "</div>"
      ],
      "text/plain": [
       "    Postcode           Borough  \\\n",
       "0        M1B       Scarborough   \n",
       "5        M1J       Scarborough   \n",
       "11       M1R       Scarborough   \n",
       "17       M2H        North York   \n",
       "35       M4B         East York   \n",
       "38       M4G         East York   \n",
       "43       M4M      East Toronto   \n",
       "53       M5A  Downtown Toronto   \n",
       "57       M5G  Downtown Toronto   \n",
       "68       M5V  Downtown Toronto   \n",
       "96       M9L        North York   \n",
       "101      M9V         Etobicoke   \n",
       "\n",
       "                                         Neighbourhood    Latitude  \\\n",
       "0                                        Rouge,Malvern  43.8066863   \n",
       "5                                  Scarborough Village  43.7447342   \n",
       "11                                    Maryvale,Wexford  43.7500715   \n",
       "17                                   Hillcrest Village  43.8037622   \n",
       "35                      Woodbine Gardens,Parkview Hill  43.7063972   \n",
       "38                                             Leaside  43.7090604   \n",
       "43                                     Studio District  43.6595255   \n",
       "53                            Harbourfront,Regent Park  43.6542599   \n",
       "57                                  Central Bay Street  43.6579524   \n",
       "68   CN Tower,Bathurst Quay,Island airport,Harbourf...  43.6289467   \n",
       "96                                       Humber Summit  43.7563033   \n",
       "101  Albion Gardens,Beaumond Heights,Humbergate,Jam...  43.7394164   \n",
       "\n",
       "       Longitude  \n",
       "0    -79.1943534  \n",
       "5    -79.2394761  \n",
       "11   -79.2958491  \n",
       "17   -79.3634517  \n",
       "35    -79.309937  \n",
       "38   -79.3634517  \n",
       "43    -79.340923  \n",
       "53   -79.3606359  \n",
       "57   -79.3873826  \n",
       "68   -79.3944199  \n",
       "96   -79.5659633  \n",
       "101  -79.5884369  "
      ]
     },
     "execution_count": 35,
     "metadata": {},
     "output_type": "execute_result"
    }
   ],
   "source": [
    "geospatial = {\n",
    "'Postcode' : [ 'M1B', 'M1C', 'M1E', 'M1G', 'M1H', 'M1J', 'M1K', 'M1L', 'M1M', 'M1N', 'M1P', 'M1R', 'M1S', 'M1T', 'M1V', 'M1W', 'M1X', 'M2H', 'M2J', 'M2K', 'M2L', 'M2M', 'M2N', 'M2P', 'M2R', 'M3A', 'M3B', 'M3C', 'M3H', 'M3J', 'M3K', 'M3L', 'M3M', 'M3N', 'M4A', 'M4B', 'M4C', 'M4E', 'M4G', 'M4H', 'M4J', 'M4K', 'M4L', 'M4M', 'M4N', 'M4P', 'M4R', 'M4S', 'M4T', 'M4V', 'M4W', 'M4X', 'M4Y', 'M5A', 'M5B', 'M5C', 'M5E', 'M5G', 'M5H', 'M5J', 'M5K', 'M5L', 'M5M', 'M5N', 'M5P', 'M5R', 'M5S', 'M5T', 'M5V', 'M5W', 'M5X', 'M6A', 'M6B', 'M6C', 'M6E', 'M6G', 'M6H', 'M6J', 'M6K', 'M6L', 'M6M', 'M6N', 'M6P', 'M6R', 'M6S', 'M7A', 'M7R', 'M7Y', 'M8V', 'M8W', 'M8X', 'M8Y', 'M8Z', 'M9A', 'M9B', 'M9C', 'M9L', 'M9M', 'M9N', 'M9P', 'M9R', 'M9V', 'M9W' ],\n",
    "'Latitude' : [ '43.8066863', '43.7845351', '43.7635726', '43.7709921', '43.773136', '43.7447342', '43.7279292', '43.7111117', '43.716316', '43.692657', '43.7574096', '43.7500715', '43.7942003', '43.7816375', '43.8152522', '43.7995252', '43.8361247', '43.8037622', '43.7785175', '43.7869473', '43.7574902', '43.789053', '43.7701199', '43.7527583', '43.7827364', '43.7532586', '43.7459058', '43.7258997', '43.7543283', '43.7679803', '43.7374732', '43.7390146', '43.7284964', '43.7616313', '43.7258823', '43.7063972', '43.6953439', '43.6763574', '43.7090604', '43.7053689', '43.685347', '43.6795571', '43.6689985', '43.6595255', '43.7280205', '43.7127511', '43.7153834', '43.7043244', '43.6895743', '43.6864123', '43.6795626', '43.667967', '43.6658599', '43.6542599', '43.6571618', '43.6514939', '43.6447708', '43.6579524', '43.6505712', '43.6408157', '43.6471768', '43.6481985', '43.7332825', '43.7116948', '43.6969476', '43.6727097', '43.6626956', '43.6532057', '43.6289467', '43.6464352', '43.6484292', '43.718518', '43.709577', '43.6937813', '43.6890256', '43.669542', '43.6690051', '43.6479267', '43.6368472', '43.7137562', '43.6911158', '43.6731853', '43.6616083', '43.6489597', '43.6515706', '43.6623015', '43.6369656', '43.6627439', '43.6056466', '43.6024137', '43.6536536', '43.6362579', '43.6288408', '43.6678556', '43.6509432', '43.6435152', '43.7563033', '43.7247659', '43.706876', '43.696319', '43.6889054', '43.7394164', '43.7067483' ],\n",
    "'Longitude' : [ '-79.1943534', '-79.1604971', '-79.1887115', '-79.2169174', '-79.2394761', '-79.2394761', '-79.2620294', '-79.2845772', '-79.2394761', '-79.2648481', '-79.273304', '-79.2958491', '-79.2620294', '-79.3043021', '-79.2845772', '-79.3183887', '-79.2056361', '-79.3634517', '-79.3465557', '-79.385975', '-79.3747141', '-79.4084928', '-79.4084928', '-79.4000493', '-79.4422593', '-79.3296565', '-79.352188', '-79.340923', '-79.4422593', '-79.4872619', '-79.4647633', '-79.5069436', '-79.4956974', '-79.5209994', '-79.3155716', '-79.309937', '-79.3183887', '-79.2930312', '-79.3634517', '-79.3493719', '-79.3381065', '-79.352188', '-79.3155716', '-79.340923', '-79.3887901', '-79.3901975', '-79.4056784', '-79.3887901', '-79.3831599', '-79.4000493', '-79.3775294', '-79.3676753', '-79.3831599', '-79.3606359', '-79.3789371', '-79.3754179', '-79.3733064', '-79.3873826', '-79.3845675', '-79.3817523', '-79.3815764', '-79.3798169', '-79.4197497', '-79.4169356', '-79.4113072', '-79.4056784', '-79.4000493', '-79.4000493', '-79.3944199', '-79.374846', '-79.3822802', '-79.4647633', '-79.4450726', '-79.4281914', '-79.453512', '-79.4225637', '-79.4422593', '-79.4197497', '-79.4281914', '-79.4900738', '-79.4760133', '-79.4872619', '-79.4647633', '-79.456325', '-79.4844499', '-79.3894938', '-79.615819', '-79.321558', '-79.5013207', '-79.5434841', '-79.5069436', '-79.4985091', '-79.5209994', '-79.5322424', '-79.5547244', '-79.5772008', '-79.5659633', '-79.5322424', '-79.5181884', '-79.5322424', '-79.5547244', '-79.5884369', '-79.5940544' ]\n",
    "}\n",
    "\n",
    "geospatial_df = pd.DataFrame( geospatial, columns=['Postcode', 'Latitude', 'Longitude'] )\n",
    "\n",
    "#join this geo data with the existing dataframe\n",
    "joined_df = pd.merge( grouped, geospatial_df, on='Postcode', how='outer')\n",
    "\n",
    "# Ensure we print out the same order as the given screenshot - not required, just for fun\n",
    "joined_df.loc[ (joined_df.Postcode == 'M5G') | (joined_df.Postcode == 'M2H') | (joined_df.Postcode == 'M4B')| (joined_df.Postcode == 'M1J')| (joined_df.Postcode == 'M4G')| (joined_df.Postcode == 'M4M')| (joined_df.Postcode == 'M1R')| (joined_df.Postcode == 'M9V')| (joined_df.Postcode == 'M9L')| (joined_df.Postcode == 'M5V')| (joined_df.Postcode == 'M1B')| (joined_df.Postcode == 'M5A')]"
   ]
  },
  {
   "cell_type": "markdown",
   "metadata": {},
   "source": [
    "# START OF NOTEBOOK 2\n",
    "\n",
    "---\n",
    "\n",
    "## Combine geospatial data with the existing DataFrame"
   ]
  },
  {
   "cell_type": "code",
   "execution_count": null,
   "metadata": {},
   "outputs": [],
   "source": []
  },
  {
   "cell_type": "code",
   "execution_count": null,
   "metadata": {},
   "outputs": [],
   "source": []
  },
  {
   "cell_type": "code",
   "execution_count": null,
   "metadata": {},
   "outputs": [],
   "source": []
  }
 ],
 "metadata": {
  "kernelspec": {
   "display_name": "Python 3",
   "language": "python",
   "name": "python3"
  },
  "language_info": {
   "codemirror_mode": {
    "name": "ipython",
    "version": 3
   },
   "file_extension": ".py",
   "mimetype": "text/x-python",
   "name": "python",
   "nbconvert_exporter": "python",
   "pygments_lexer": "ipython3",
   "version": "3.6.8"
  }
 },
 "nbformat": 4,
 "nbformat_minor": 2
}
